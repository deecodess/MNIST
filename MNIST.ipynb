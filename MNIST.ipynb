{
  "nbformat": 4,
  "nbformat_minor": 0,
  "metadata": {
    "colab": {
      "name": "MNIST Classification.ipynb",
      "provenance": [],
      "collapsed_sections": [],
      "authorship_tag": "ABX9TyPsfhu/8W1fs80+b+OnMKCt",
      "include_colab_link": true
    },
    "kernelspec": {
      "name": "python3",
      "display_name": "Python 3"
    },
    "language_info": {
      "name": "python"
    },
    "accelerator": "GPU"
  },
  "cells": [
    {
      "cell_type": "markdown",
      "metadata": {
        "id": "view-in-github",
        "colab_type": "text"
      },
      "source": [
        "<a href=\"https://colab.research.google.com/github/deecodess/MNIST/blob/main/MNIST.ipynb\" target=\"_parent\"><img src=\"https://colab.research.google.com/assets/colab-badge.svg\" alt=\"Open In Colab\"/></a>"
      ]
    },
    {
      "cell_type": "markdown",
      "source": [
        "Import Torch\n"
      ],
      "metadata": {
        "id": "_r4oKz3VTRD7"
      }
    },
    {
      "cell_type": "code",
      "source": [
        "import torch \n",
        "from torch import nn\n",
        "from torch import optim\n",
        "from torchvision import datasets, transforms\n",
        "from torch.utils.data import random_split, DataLoader\n",
        "\n",
        "\n"
      ],
      "metadata": {
        "id": "k-gWnlT-TTkJ"
      },
      "execution_count": null,
      "outputs": []
    },
    {
      "cell_type": "code",
      "source": [
        "torch.randn(5).cuda()"
      ],
      "metadata": {
        "id": "twy7MNCtl_Kv"
      },
      "execution_count": null,
      "outputs": []
    },
    {
      "cell_type": "markdown",
      "source": [
        "Train, Val Split\n"
      ],
      "metadata": {
        "id": "aOkp3XASdH3p"
      }
    },
    {
      "cell_type": "code",
      "source": [
        "train_data = datasets.MNIST('data', train=True, download=True, transform=transforms.ToTensor())\n",
        "train, val = random_split(train_data, [55000,5000])\n",
        "train_loader = DataLoader(train, batch_size=32)\n",
        "val_loader = DataLoader(val, batch_size=32)\n"
      ],
      "metadata": {
        "id": "nrbNX2J5blBw"
      },
      "execution_count": null,
      "outputs": []
    },
    {
      "cell_type": "markdown",
      "source": [
        "Define Model"
      ],
      "metadata": {
        "id": "aQOnCKE9V1aF"
      }
    },
    {
      "cell_type": "code",
      "source": [
        "model = nn.Sequential(\n",
        "    nn.Linear(28 * 28 , 64),\n",
        "    nn.ReLU(),\n",
        "    nn.Linear(64,64),\n",
        "    nn.ReLU(),\n",
        "    nn.Dropout(0.1),\n",
        "    nn.Linear(64,10),\n",
        ")"
      ],
      "metadata": {
        "id": "yVAmk-qpUL_5"
      },
      "execution_count": null,
      "outputs": []
    },
    {
      "cell_type": "markdown",
      "source": [
        "Define a more flexible model"
      ],
      "metadata": {
        "id": "-gcfYmF5pTSL"
      }
    },
    {
      "cell_type": "code",
      "source": [
        "class ResNet(nn.Module):\n",
        "  def __init__(self):\n",
        "    super().__init__()\n",
        "    self.l1 = nn.Linear(28 *28, 64)\n",
        "    self.l2 = nn.Linear(64, 64)\n",
        "    self.l3 = nn.Linear(64, 10)\n",
        "    self.do = nn.Dropout(0.1)\n",
        "\n",
        "  def forward(self,x):\n",
        "    h1 = nn.functional.relu(self.l1(x))\n",
        "    h2 = nn.functional.relu(self.l2(h1))\n",
        "    do = self.do(h2 + h1)\n",
        "    logits = self.l3(do)\n",
        "    return logits\n",
        "model = ResNet().cuda()\n"
      ],
      "metadata": {
        "id": "83m6VWJ8pXQP"
      },
      "execution_count": null,
      "outputs": []
    },
    {
      "cell_type": "markdown",
      "source": [
        "Define Optimiser"
      ],
      "metadata": {
        "id": "aGS-O_WxWJB9"
      }
    },
    {
      "cell_type": "code",
      "source": [
        "params = model.parameters()\n",
        "optimiser = optim.SGD(params , lr = 1e-2)"
      ],
      "metadata": {
        "id": "lclWmywwWKcG"
      },
      "execution_count": null,
      "outputs": []
    },
    {
      "cell_type": "markdown",
      "source": [
        "Define Loss"
      ],
      "metadata": {
        "id": "QAzBV-OBXjsY"
      }
    },
    {
      "cell_type": "code",
      "source": [
        "loss = nn.CrossEntropyLoss()"
      ],
      "metadata": {
        "id": "YBywu1LWXlVz"
      },
      "execution_count": null,
      "outputs": []
    },
    {
      "cell_type": "markdown",
      "source": [
        "Training Loop"
      ],
      "metadata": {
        "id": "a6ceiBmsXrxV"
      }
    },
    {
      "cell_type": "code",
      "source": [
        "nb_epochs = 5\n",
        "for epoch in range(nb_epochs):\n",
        "    losses = list()\n",
        "    accuracies = list()\n",
        "    model.train()   #because dropout used\n",
        "    for batch in train_loader:\n",
        "      x,y = batch\n",
        "\n",
        "      #x(image): batch size * 1*28*28, then it will go through model\n",
        "      b=x.size(0)\n",
        "      x=x.view(b, -1).cuda()\n",
        "\n",
        "      # 5 essential steps for training a model\n",
        "      # 1 forward\n",
        "      l = model(x)  # l: logits\n",
        "\n",
        "      # 2 compute the objective function\n",
        "      J = loss(l,y.cuda())\n",
        "\n",
        "      # 3 cleaning the gradients\n",
        "      model.zero_grad()\n",
        "      #optimiser.zero_grad()\n",
        "      #params.grad._zero()\n",
        "\n",
        "      # 4 accumulate the partial derivatives of J wrt parameters\n",
        "      J.backward()\n",
        "      #params.grad.sum(dJ/dparams)\n",
        "\n",
        "\n",
        "      # 5 step in the opposite direction of the gradient\n",
        "      optimiser.step()\n",
        "      #with torch.no_grad(): params = parmas - eta * params.grad\n",
        "\n",
        "      losses.append(J.item())\n",
        "      accuracies.append(y.eq(l.detach().argmax(dim=1).cpu()).float().mean())\n",
        "    print(f'Epoch {epoch + 1}', end=', ')\n",
        "    print(f'training loss: {torch.tensor(losses).mean():.2f}', end=', ')\n",
        "    print(f'training accuracy: {torch.tensor(accuracies).mean():.2f}')\n",
        "\n",
        "\n",
        "    losses = list()\n",
        "    accuracies = list()\n",
        "    model.eval()\n",
        "    for batch in val_loader:\n",
        "      x,y = batch\n",
        "\n",
        "      #x(image): batch size * 1*28*28, then it will go through model\n",
        "      b=x.size(0)\n",
        "      x=x.view(b, -1).cuda()\n",
        "\n",
        "      \n",
        "      # 1 forward\n",
        "      with torch.no_grad():\n",
        "        l = model(x)  # l: logits\n",
        "\n",
        "      # 2 compute the objective function\n",
        "      J = loss(l,y.cuda())\n",
        "\n",
        "      losses.append(J.item())\n",
        "      accuracies.append(y.eq(l.detach().argmax(dim=1).cpu()).float().mean())\n",
        "    print(f'Epoch {epoch + 1}', end=', ')\n",
        "    print(f'validation loss: {torch.tensor(losses).mean():.2f}', end=', ')\n",
        "    print(f'validation accuracy: {torch.tensor(accuracies).mean():.2f}')\n",
        "\n"
      ],
      "metadata": {
        "id": "viPx6pY5Xu9j"
      },
      "execution_count": null,
      "outputs": []
    },
    {
      "cell_type": "code",
      "source": [
        "from matplotlib import pyplot as plt \n"
      ],
      "metadata": {
        "id": "RNzgmjczvWmv"
      },
      "execution_count": null,
      "outputs": []
    },
    {
      "cell_type": "code",
      "source": [
        "#two methods to show tensors\n",
        "train_data[0]\n",
        "train_image, train_num = train_data[0]\n",
        "print(f'The predicted number is: {train_num}')\n",
        "\n",
        "# loading the image\n",
        "testImage=(np.array(train_data[0][0], dtype='float')).reshape(28,28)\n",
        "\n",
        "#using matplotlib\n",
        "import numpy as np\n",
        "plt.imshow(testImage)\n",
        "\n",
        "#using PIL\n",
        "import PIL.Image as pil\n",
        "img = pil.fromarray(np.uint8(testImage*255), 'L')\n",
        "img\n",
        "\n",
        "\n",
        "\n",
        "\n"
      ],
      "metadata": {
        "id": "Q9_uveQe23oj"
      },
      "execution_count": null,
      "outputs": []
    },
    {
      "cell_type": "code",
      "source": [
        "l.detach()[0]"
      ],
      "metadata": {
        "id": "EP5ZjkmNvcfu"
      },
      "execution_count": null,
      "outputs": []
    }
  ]
}